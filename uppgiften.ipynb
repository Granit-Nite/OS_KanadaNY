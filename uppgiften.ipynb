{
 "cells": [
  {
   "cell_type": "code",
   "execution_count": 83,
   "metadata": {},
   "outputs": [
    {
     "name": "stdout",
     "output_type": "stream",
     "text": [
      "Det finns 231 länder i datan\n"
     ]
    }
   ],
   "source": [
    "\n",
    "with open (r\"noc_regions.csv\", \"r\") as fp:  #python196.33.com\n",
    "    for count, line in enumerate(fp): \n",
    "        pass \n",
    "    \n",
    "    \n",
    "    print (f\"Det finns {count + 1} länder i datan\")\n"
   ]
  },
  {
   "cell_type": "code",
   "execution_count": 20,
   "metadata": {},
   "outputs": [
    {
     "data": {
      "text/plain": [
       "0      AFG\n",
       "1      AHO\n",
       "2      ALB\n",
       "3      ALG\n",
       "4      AND\n",
       "      ... \n",
       "225    YEM\n",
       "226    YMD\n",
       "227    YUG\n",
       "228    ZAM\n",
       "229    ZIM\n",
       "Name: NOC, Length: 230, dtype: object"
      ]
     },
     "execution_count": 20,
     "metadata": {},
     "output_type": "execute_result"
    }
   ],
   "source": [
    "import pandas as pd\n",
    "\n",
    "df = pd.read_csv(\"noc_regions.csv\")\n",
    "df[\"NOC\"]"
   ]
  },
  {
   "cell_type": "code",
   "execution_count": 61,
   "metadata": {},
   "outputs": [
    {
     "name": "stdout",
     "output_type": "stream",
     "text": [
      "Basketball\n",
      "Judo\n",
      "Football\n",
      "Tug-Of-War\n",
      "Speed Skating\n",
      "Cross Country Skiing\n",
      "Athletics\n",
      "Ice Hockey\n",
      "Swimming\n",
      "Badminton\n",
      "Sailing\n",
      "Biathlon\n",
      "Gymnastics\n",
      "Art Competitions\n",
      "Alpine Skiing\n",
      "Handball\n",
      "Weightlifting\n",
      "Wrestling\n",
      "Luge\n",
      "Water Polo\n",
      "Hockey\n",
      "Rowing\n",
      "Bobsleigh\n",
      "Fencing\n",
      "Equestrianism\n",
      "Shooting\n",
      "Boxing\n",
      "Taekwondo\n",
      "Cycling\n",
      "Diving\n",
      "Canoeing\n",
      "Tennis\n",
      "Modern Pentathlon\n",
      "Figure Skating\n",
      "Golf\n",
      "Softball\n",
      "Archery\n",
      "Volleyball\n",
      "Synchronized Swimming\n",
      "Table Tennis\n",
      "Nordic Combined\n",
      "Baseball\n",
      "Rhythmic Gymnastics\n",
      "Freestyle Skiing\n",
      "Rugby Sevens\n",
      "Trampolining\n",
      "Beach Volleyball\n",
      "Triathlon\n",
      "Ski Jumping\n",
      "Curling\n",
      "Snowboarding\n",
      "Rugby\n",
      "Short Track Speed Skating\n",
      "Skeleton\n",
      "Lacrosse\n",
      "Polo\n",
      "Cricket\n",
      "Racquets\n",
      "Motorboating\n",
      "Military Ski Patrol\n",
      "Croquet\n",
      "Jeu De Paume\n",
      "Roque\n",
      "Alpinism\n",
      "Basque Pelota\n",
      "Aeronautics\n"
     ]
    }
   ],
   "source": [
    "df2 = pd.read_csv(\"athlete_events.csv\")\n",
    "\n",
    "antalsport = df2[\"Sport\"].unique()\n",
    "\n",
    "\n",
    "for x in antalsport:\n",
    "    count + 1\n",
    "    print (x)\n",
    "\n",
    "\n",
    "\n"
   ]
  },
  {
   "cell_type": "code",
   "execution_count": 84,
   "metadata": {},
   "outputs": [
    {
     "name": "stdout",
     "output_type": "stream",
     "text": [
      "Gold\n",
      "Bronze\n",
      "Silver\n"
     ]
    }
   ],
   "source": [
    "\n",
    "medaljtyper = df2[\"Medal\"].dropna().unique()\n",
    "\n",
    "for x in medaljtyper:\n",
    "    count += 1\n",
    "    print(x)\n"
   ]
  },
  {
   "cell_type": "code",
   "execution_count": null,
   "metadata": {},
   "outputs": [
    {
     "data": {
      "text/plain": [
       "mean      25.556898\n",
       "median    24.000000\n",
       "min       10.000000\n",
       "max       97.000000\n",
       "std        6.393561\n",
       "Name: Age, dtype: float64"
      ]
     },
     "execution_count": 98,
     "metadata": {},
     "output_type": "execute_result"
    }
   ],
   "source": [
    "df2[\"Age\"].agg([\"mean\",\"median\",\"min\",\"max\",\"std\"])\n"
   ]
  },
  {
   "cell_type": "code",
   "execution_count": 180,
   "metadata": {},
   "outputs": [
    {
     "name": "stderr",
     "output_type": "stream",
     "text": [
      "C:\\Users\\GranitIbishi\\AppData\\Local\\Temp\\ipykernel_8688\\1403957750.py:5: SettingWithCopyWarning: \n",
      "A value is trying to be set on a copy of a slice from a DataFrame\n",
      "\n",
      "See the caveats in the documentation: https://pandas.pydata.org/pandas-docs/stable/user_guide/indexing.html#returning-a-view-versus-a-copy\n",
      "  listan.drop_duplicates(inplace=True)\n"
     ]
    },
    {
     "data": {
      "text/html": [
       "<style type=\"text/css\">\n",
       "</style>\n",
       "<table id=\"T_6026d\">\n",
       "  <thead>\n",
       "    <tr>\n",
       "      <th id=\"T_6026d_level0_col0\" class=\"col_heading level0 col0\" >Year</th>\n",
       "      <th id=\"T_6026d_level0_col1\" class=\"col_heading level0 col1\" >City</th>\n",
       "    </tr>\n",
       "  </thead>\n",
       "  <tbody>\n",
       "    <tr>\n",
       "      <td id=\"T_6026d_row0_col0\" class=\"data row0 col0\" >1896</td>\n",
       "      <td id=\"T_6026d_row0_col1\" class=\"data row0 col1\" >Athina</td>\n",
       "    </tr>\n",
       "    <tr>\n",
       "      <td id=\"T_6026d_row1_col0\" class=\"data row1 col0\" >1900</td>\n",
       "      <td id=\"T_6026d_row1_col1\" class=\"data row1 col1\" >Paris</td>\n",
       "    </tr>\n",
       "    <tr>\n",
       "      <td id=\"T_6026d_row2_col0\" class=\"data row2 col0\" >1904</td>\n",
       "      <td id=\"T_6026d_row2_col1\" class=\"data row2 col1\" >St. Louis</td>\n",
       "    </tr>\n",
       "    <tr>\n",
       "      <td id=\"T_6026d_row3_col0\" class=\"data row3 col0\" >1906</td>\n",
       "      <td id=\"T_6026d_row3_col1\" class=\"data row3 col1\" >Athina</td>\n",
       "    </tr>\n",
       "    <tr>\n",
       "      <td id=\"T_6026d_row4_col0\" class=\"data row4 col0\" >1908</td>\n",
       "      <td id=\"T_6026d_row4_col1\" class=\"data row4 col1\" >London</td>\n",
       "    </tr>\n",
       "    <tr>\n",
       "      <td id=\"T_6026d_row5_col0\" class=\"data row5 col0\" >1912</td>\n",
       "      <td id=\"T_6026d_row5_col1\" class=\"data row5 col1\" >Stockholm</td>\n",
       "    </tr>\n",
       "    <tr>\n",
       "      <td id=\"T_6026d_row6_col0\" class=\"data row6 col0\" >1920</td>\n",
       "      <td id=\"T_6026d_row6_col1\" class=\"data row6 col1\" >Antwerpen</td>\n",
       "    </tr>\n",
       "    <tr>\n",
       "      <td id=\"T_6026d_row7_col0\" class=\"data row7 col0\" >1924</td>\n",
       "      <td id=\"T_6026d_row7_col1\" class=\"data row7 col1\" >Paris</td>\n",
       "    </tr>\n",
       "    <tr>\n",
       "      <td id=\"T_6026d_row8_col0\" class=\"data row8 col0\" >1924</td>\n",
       "      <td id=\"T_6026d_row8_col1\" class=\"data row8 col1\" >Chamonix</td>\n",
       "    </tr>\n",
       "    <tr>\n",
       "      <td id=\"T_6026d_row9_col0\" class=\"data row9 col0\" >1928</td>\n",
       "      <td id=\"T_6026d_row9_col1\" class=\"data row9 col1\" >Amsterdam</td>\n",
       "    </tr>\n",
       "    <tr>\n",
       "      <td id=\"T_6026d_row10_col0\" class=\"data row10 col0\" >1928</td>\n",
       "      <td id=\"T_6026d_row10_col1\" class=\"data row10 col1\" >Sankt Moritz</td>\n",
       "    </tr>\n",
       "    <tr>\n",
       "      <td id=\"T_6026d_row11_col0\" class=\"data row11 col0\" >1932</td>\n",
       "      <td id=\"T_6026d_row11_col1\" class=\"data row11 col1\" >Lake Placid</td>\n",
       "    </tr>\n",
       "    <tr>\n",
       "      <td id=\"T_6026d_row12_col0\" class=\"data row12 col0\" >1932</td>\n",
       "      <td id=\"T_6026d_row12_col1\" class=\"data row12 col1\" >Los Angeles</td>\n",
       "    </tr>\n",
       "    <tr>\n",
       "      <td id=\"T_6026d_row13_col0\" class=\"data row13 col0\" >1936</td>\n",
       "      <td id=\"T_6026d_row13_col1\" class=\"data row13 col1\" >Berlin</td>\n",
       "    </tr>\n",
       "    <tr>\n",
       "      <td id=\"T_6026d_row14_col0\" class=\"data row14 col0\" >1936</td>\n",
       "      <td id=\"T_6026d_row14_col1\" class=\"data row14 col1\" >Garmisch-Partenkirchen</td>\n",
       "    </tr>\n",
       "    <tr>\n",
       "      <td id=\"T_6026d_row15_col0\" class=\"data row15 col0\" >1948</td>\n",
       "      <td id=\"T_6026d_row15_col1\" class=\"data row15 col1\" >London</td>\n",
       "    </tr>\n",
       "    <tr>\n",
       "      <td id=\"T_6026d_row16_col0\" class=\"data row16 col0\" >1948</td>\n",
       "      <td id=\"T_6026d_row16_col1\" class=\"data row16 col1\" >Sankt Moritz</td>\n",
       "    </tr>\n",
       "    <tr>\n",
       "      <td id=\"T_6026d_row17_col0\" class=\"data row17 col0\" >1952</td>\n",
       "      <td id=\"T_6026d_row17_col1\" class=\"data row17 col1\" >Helsinki</td>\n",
       "    </tr>\n",
       "    <tr>\n",
       "      <td id=\"T_6026d_row18_col0\" class=\"data row18 col0\" >1952</td>\n",
       "      <td id=\"T_6026d_row18_col1\" class=\"data row18 col1\" >Oslo</td>\n",
       "    </tr>\n",
       "    <tr>\n",
       "      <td id=\"T_6026d_row19_col0\" class=\"data row19 col0\" >1956</td>\n",
       "      <td id=\"T_6026d_row19_col1\" class=\"data row19 col1\" >Cortina d'Ampezzo</td>\n",
       "    </tr>\n",
       "    <tr>\n",
       "      <td id=\"T_6026d_row20_col0\" class=\"data row20 col0\" >1956</td>\n",
       "      <td id=\"T_6026d_row20_col1\" class=\"data row20 col1\" >Melbourne</td>\n",
       "    </tr>\n",
       "    <tr>\n",
       "      <td id=\"T_6026d_row21_col0\" class=\"data row21 col0\" >1956</td>\n",
       "      <td id=\"T_6026d_row21_col1\" class=\"data row21 col1\" >Stockholm</td>\n",
       "    </tr>\n",
       "    <tr>\n",
       "      <td id=\"T_6026d_row22_col0\" class=\"data row22 col0\" >1960</td>\n",
       "      <td id=\"T_6026d_row22_col1\" class=\"data row22 col1\" >Squaw Valley</td>\n",
       "    </tr>\n",
       "    <tr>\n",
       "      <td id=\"T_6026d_row23_col0\" class=\"data row23 col0\" >1960</td>\n",
       "      <td id=\"T_6026d_row23_col1\" class=\"data row23 col1\" >Roma</td>\n",
       "    </tr>\n",
       "    <tr>\n",
       "      <td id=\"T_6026d_row24_col0\" class=\"data row24 col0\" >1964</td>\n",
       "      <td id=\"T_6026d_row24_col1\" class=\"data row24 col1\" >Tokyo</td>\n",
       "    </tr>\n",
       "    <tr>\n",
       "      <td id=\"T_6026d_row25_col0\" class=\"data row25 col0\" >1964</td>\n",
       "      <td id=\"T_6026d_row25_col1\" class=\"data row25 col1\" >Innsbruck</td>\n",
       "    </tr>\n",
       "    <tr>\n",
       "      <td id=\"T_6026d_row26_col0\" class=\"data row26 col0\" >1968</td>\n",
       "      <td id=\"T_6026d_row26_col1\" class=\"data row26 col1\" >Mexico City</td>\n",
       "    </tr>\n",
       "    <tr>\n",
       "      <td id=\"T_6026d_row27_col0\" class=\"data row27 col0\" >1968</td>\n",
       "      <td id=\"T_6026d_row27_col1\" class=\"data row27 col1\" >Grenoble</td>\n",
       "    </tr>\n",
       "    <tr>\n",
       "      <td id=\"T_6026d_row28_col0\" class=\"data row28 col0\" >1972</td>\n",
       "      <td id=\"T_6026d_row28_col1\" class=\"data row28 col1\" >Sapporo</td>\n",
       "    </tr>\n",
       "    <tr>\n",
       "      <td id=\"T_6026d_row29_col0\" class=\"data row29 col0\" >1972</td>\n",
       "      <td id=\"T_6026d_row29_col1\" class=\"data row29 col1\" >Munich</td>\n",
       "    </tr>\n",
       "    <tr>\n",
       "      <td id=\"T_6026d_row30_col0\" class=\"data row30 col0\" >1976</td>\n",
       "      <td id=\"T_6026d_row30_col1\" class=\"data row30 col1\" >Montreal</td>\n",
       "    </tr>\n",
       "    <tr>\n",
       "      <td id=\"T_6026d_row31_col0\" class=\"data row31 col0\" >1976</td>\n",
       "      <td id=\"T_6026d_row31_col1\" class=\"data row31 col1\" >Innsbruck</td>\n",
       "    </tr>\n",
       "    <tr>\n",
       "      <td id=\"T_6026d_row32_col0\" class=\"data row32 col0\" >1980</td>\n",
       "      <td id=\"T_6026d_row32_col1\" class=\"data row32 col1\" >Moskva</td>\n",
       "    </tr>\n",
       "    <tr>\n",
       "      <td id=\"T_6026d_row33_col0\" class=\"data row33 col0\" >1980</td>\n",
       "      <td id=\"T_6026d_row33_col1\" class=\"data row33 col1\" >Lake Placid</td>\n",
       "    </tr>\n",
       "    <tr>\n",
       "      <td id=\"T_6026d_row34_col0\" class=\"data row34 col0\" >1984</td>\n",
       "      <td id=\"T_6026d_row34_col1\" class=\"data row34 col1\" >Sarajevo</td>\n",
       "    </tr>\n",
       "    <tr>\n",
       "      <td id=\"T_6026d_row35_col0\" class=\"data row35 col0\" >1984</td>\n",
       "      <td id=\"T_6026d_row35_col1\" class=\"data row35 col1\" >Los Angeles</td>\n",
       "    </tr>\n",
       "    <tr>\n",
       "      <td id=\"T_6026d_row36_col0\" class=\"data row36 col0\" >1988</td>\n",
       "      <td id=\"T_6026d_row36_col1\" class=\"data row36 col1\" >Calgary</td>\n",
       "    </tr>\n",
       "    <tr>\n",
       "      <td id=\"T_6026d_row37_col0\" class=\"data row37 col0\" >1988</td>\n",
       "      <td id=\"T_6026d_row37_col1\" class=\"data row37 col1\" >Seoul</td>\n",
       "    </tr>\n",
       "    <tr>\n",
       "      <td id=\"T_6026d_row38_col0\" class=\"data row38 col0\" >1992</td>\n",
       "      <td id=\"T_6026d_row38_col1\" class=\"data row38 col1\" >Barcelona</td>\n",
       "    </tr>\n",
       "    <tr>\n",
       "      <td id=\"T_6026d_row39_col0\" class=\"data row39 col0\" >1992</td>\n",
       "      <td id=\"T_6026d_row39_col1\" class=\"data row39 col1\" >Albertville</td>\n",
       "    </tr>\n",
       "    <tr>\n",
       "      <td id=\"T_6026d_row40_col0\" class=\"data row40 col0\" >1994</td>\n",
       "      <td id=\"T_6026d_row40_col1\" class=\"data row40 col1\" >Lillehammer</td>\n",
       "    </tr>\n",
       "    <tr>\n",
       "      <td id=\"T_6026d_row41_col0\" class=\"data row41 col0\" >1996</td>\n",
       "      <td id=\"T_6026d_row41_col1\" class=\"data row41 col1\" >Atlanta</td>\n",
       "    </tr>\n",
       "    <tr>\n",
       "      <td id=\"T_6026d_row42_col0\" class=\"data row42 col0\" >1998</td>\n",
       "      <td id=\"T_6026d_row42_col1\" class=\"data row42 col1\" >Nagano</td>\n",
       "    </tr>\n",
       "    <tr>\n",
       "      <td id=\"T_6026d_row43_col0\" class=\"data row43 col0\" >2000</td>\n",
       "      <td id=\"T_6026d_row43_col1\" class=\"data row43 col1\" >Sydney</td>\n",
       "    </tr>\n",
       "    <tr>\n",
       "      <td id=\"T_6026d_row44_col0\" class=\"data row44 col0\" >2002</td>\n",
       "      <td id=\"T_6026d_row44_col1\" class=\"data row44 col1\" >Salt Lake City</td>\n",
       "    </tr>\n",
       "    <tr>\n",
       "      <td id=\"T_6026d_row45_col0\" class=\"data row45 col0\" >2004</td>\n",
       "      <td id=\"T_6026d_row45_col1\" class=\"data row45 col1\" >Athina</td>\n",
       "    </tr>\n",
       "    <tr>\n",
       "      <td id=\"T_6026d_row46_col0\" class=\"data row46 col0\" >2006</td>\n",
       "      <td id=\"T_6026d_row46_col1\" class=\"data row46 col1\" >Torino</td>\n",
       "    </tr>\n",
       "    <tr>\n",
       "      <td id=\"T_6026d_row47_col0\" class=\"data row47 col0\" >2008</td>\n",
       "      <td id=\"T_6026d_row47_col1\" class=\"data row47 col1\" >Beijing</td>\n",
       "    </tr>\n",
       "    <tr>\n",
       "      <td id=\"T_6026d_row48_col0\" class=\"data row48 col0\" >2010</td>\n",
       "      <td id=\"T_6026d_row48_col1\" class=\"data row48 col1\" >Vancouver</td>\n",
       "    </tr>\n",
       "    <tr>\n",
       "      <td id=\"T_6026d_row49_col0\" class=\"data row49 col0\" >2012</td>\n",
       "      <td id=\"T_6026d_row49_col1\" class=\"data row49 col1\" >London</td>\n",
       "    </tr>\n",
       "    <tr>\n",
       "      <td id=\"T_6026d_row50_col0\" class=\"data row50 col0\" >2014</td>\n",
       "      <td id=\"T_6026d_row50_col1\" class=\"data row50 col1\" >Sochi</td>\n",
       "    </tr>\n",
       "    <tr>\n",
       "      <td id=\"T_6026d_row51_col0\" class=\"data row51 col0\" >2016</td>\n",
       "      <td id=\"T_6026d_row51_col1\" class=\"data row51 col1\" >Rio de Janeiro</td>\n",
       "    </tr>\n",
       "  </tbody>\n",
       "</table>\n"
      ],
      "text/plain": [
       "<pandas.io.formats.style.Styler at 0x1c632364260>"
      ]
     },
     "execution_count": 180,
     "metadata": {},
     "output_type": "execute_result"
    }
   ],
   "source": [
    "#Vi valde frågan \"vilket år samt i vilken stad OS spelades i?\". \n",
    "\n",
    "listan = df2[['Year','City']]\n",
    "\n",
    "listan.drop_duplicates(inplace=True)\n",
    "x = listan.sort_values('Year')\n",
    "\n",
    "x.style.hide(axis=\"index\")\n",
    "\n",
    "\n"
   ]
  },
  {
   "cell_type": "code",
   "execution_count": 236,
   "metadata": {},
   "outputs": [
    {
     "data": {
      "text/plain": [
       "<BarContainer object of 2 artists>"
      ]
     },
     "execution_count": 236,
     "metadata": {},
     "output_type": "execute_result"
    },
    {
     "data": {
      "image/png": "[encoded data removed]",
      "text/plain": [
       "<Figure size 640x480 with 1 Axes>"
      ]
     },
     "metadata": {},
     "output_type": "display_data"
    }
   ],
   "source": [
    "import matplotlib.pyplot as plt\n",
    "\n",
    "# Könsfördelning \n",
    "\n",
    "sex = df2.groupby(['Sex']).size()\n",
    "\n",
    "sex_total = sex.to_dict()\n",
    "\n",
    "plt.bar(sex_total.keys(), sex_total.values())"
   ]
  },
  {
   "cell_type": "code",
   "execution_count": null,
   "metadata": {},
   "outputs": [
    {
     "data": {
      "text/plain": [
       "<BarContainer object of 10 artists>"
      ]
     },
     "execution_count": 301,
     "metadata": {},
     "output_type": "execute_result"
    },
    {
     "data": {
      "image/png": "[encoded data removed]",
      "text/plain": [
       "<Figure size 640x480 with 1 Axes>"
      ]
     },
     "metadata": {},
     "output_type": "display_data"
    }
   ],
   "source": [
    "# h. diagram över topp 10 länder som tagit flest medaljer\n",
    "\n",
    "medalj = df2.pivot_table(index= 'NOC', columns='Medal', aggfunc= 'size')\n",
    "\n",
    "medalj2 = medalj.sum(axis=1)\n",
    "medalj = medalj2.sort_values(ascending=False)\n",
    "\n",
    "medalj = medalj.astype(int)\n",
    "medalj.head(10)\n",
    "\n",
    "\n",
    "medalj10= medalj[:10]\n",
    "\n",
    "medalj_top_10 = medalj10.to_dict()\n",
    "plt.bar(medalj_top_10.keys(), medalj_top_10.values())\n",
    "\n",
    "\n",
    "\n"
   ]
  }
 ],
 "metadata": {
  "language_info": {
   "name": "python"
  }
 },
 "nbformat": 4,
 "nbformat_minor": 2
}
