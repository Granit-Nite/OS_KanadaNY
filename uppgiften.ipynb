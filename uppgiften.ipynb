{
<<<<<<< HEAD
 "cells": [],
=======
 "cells": [
  {
   "cell_type": "code",
   "execution_count": null,
   "metadata": {},
   "outputs": [],
   "source": [
    "test nytt onsdag"
   ]
  },
  {
   "cell_type": "code",
   "execution_count": null,
   "metadata": {},
   "outputs": [],
   "source": [
    "print(23)"
   ]
  }
 ],
>>>>>>> b35ec7212a22fbd251df5e1df37a3b56794ddd6a
 "metadata": {
  "language_info": {
   "name": "python"
  }
 },
 "nbformat": 4,
 "nbformat_minor": 2
}
