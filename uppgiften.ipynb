{
 "cells": [
  {
   "cell_type": "code",
   "execution_count": 1,
   "metadata": {},
   "outputs": [
    {
     "name": "stdout",
     "output_type": "stream",
     "text": [
      "Det finns 231 länder i datan\n"
     ]
    }
   ],
   "source": [
    "\n",
    "with open (r\"noc_regions.csv\", \"r\") as fp:  #python196.33.com\n",
    "    for count, line in enumerate(fp): \n",
    "        pass \n",
    "    \n",
    "    \n",
    "    print (f\"Det finns {count + 1} länder i datan\")\n"
   ]
  },
  {
   "cell_type": "code",
   "execution_count": 2,
   "metadata": {},
   "outputs": [
    {
     "data": {
      "text/plain": [
       "0      AFG\n",
       "1      AHO\n",
       "2      ALB\n",
       "3      ALG\n",
       "4      AND\n",
       "      ... \n",
       "225    YEM\n",
       "226    YMD\n",
       "227    YUG\n",
       "228    ZAM\n",
       "229    ZIM\n",
       "Name: NOC, Length: 230, dtype: object"
      ]
     },
     "execution_count": 2,
     "metadata": {},
     "output_type": "execute_result"
    }
   ],
   "source": [
    "import pandas as pd\n",
    "\n",
    "df = pd.read_csv(\"noc_regions.csv\")\n",
    "df[\"NOC\"]"
   ]
  },
  {
   "cell_type": "code",
   "execution_count": 3,
   "metadata": {},
   "outputs": [
    {
     "name": "stdout",
     "output_type": "stream",
     "text": [
      "Basketball\n",
      "Judo\n",
      "Football\n",
      "Tug-Of-War\n",
      "Speed Skating\n",
      "Cross Country Skiing\n",
      "Athletics\n",
      "Ice Hockey\n",
      "Swimming\n",
      "Badminton\n",
      "Sailing\n",
      "Biathlon\n",
      "Gymnastics\n",
      "Art Competitions\n",
      "Alpine Skiing\n",
      "Handball\n",
      "Weightlifting\n",
      "Wrestling\n",
      "Luge\n",
      "Water Polo\n",
      "Hockey\n",
      "Rowing\n",
      "Bobsleigh\n",
      "Fencing\n",
      "Equestrianism\n",
      "Shooting\n",
      "Boxing\n",
      "Taekwondo\n",
      "Cycling\n",
      "Diving\n",
      "Canoeing\n",
      "Tennis\n",
      "Modern Pentathlon\n",
      "Figure Skating\n",
      "Golf\n",
      "Softball\n",
      "Archery\n",
      "Volleyball\n",
      "Synchronized Swimming\n",
      "Table Tennis\n",
      "Nordic Combined\n",
      "Baseball\n",
      "Rhythmic Gymnastics\n",
      "Freestyle Skiing\n",
      "Rugby Sevens\n",
      "Trampolining\n",
      "Beach Volleyball\n",
      "Triathlon\n",
      "Ski Jumping\n",
      "Curling\n",
      "Snowboarding\n",
      "Rugby\n",
      "Short Track Speed Skating\n",
      "Skeleton\n",
      "Lacrosse\n",
      "Polo\n",
      "Cricket\n",
      "Racquets\n",
      "Motorboating\n",
      "Military Ski Patrol\n",
      "Croquet\n",
      "Jeu De Paume\n",
      "Roque\n",
      "Alpinism\n",
      "Basque Pelota\n",
      "Aeronautics\n"
     ]
    }
   ],
   "source": [
    "df2 = pd.read_csv(\"athlete_events.csv\")\n",
    "\n",
    "antalsport = df2[\"Sport\"].unique()\n",
    "\n",
    "\n",
    "for x in antalsport:\n",
    "    count + 1\n",
    "    print (x)\n",
    "\n",
    "\n",
    "\n"
   ]
  },
  {
   "cell_type": "code",
   "execution_count": 4,
   "metadata": {},
   "outputs": [
    {
     "name": "stdout",
     "output_type": "stream",
     "text": [
      "Gold\n",
      "Bronze\n",
      "Silver\n"
     ]
    }
   ],
   "source": [
    "\n",
    "medaljtyper = df2[\"Medal\"].dropna().unique()\n",
    "\n",
    "for x in medaljtyper:\n",
    "    count += 1\n",
    "    print(x)\n"
   ]
  },
  {
   "cell_type": "code",
   "execution_count": 5,
   "metadata": {},
   "outputs": [
    {
     "data": {
      "text/plain": [
       "mean      25.556898\n",
       "median    24.000000\n",
       "min       10.000000\n",
       "max       97.000000\n",
       "std        6.393561\n",
       "Name: Age, dtype: float64"
      ]
     },
     "execution_count": 5,
     "metadata": {},
     "output_type": "execute_result"
    }
   ],
   "source": [
    "df2[\"Age\"].agg([\"mean\",\"median\",\"min\",\"max\",\"std\"])\n"
   ]
  },
  {
   "cell_type": "code",
   "execution_count": 6,
   "metadata": {},
   "outputs": [
    {
     "name": "stderr",
     "output_type": "stream",
     "text": [
      "C:\\Users\\musta\\AppData\\Local\\Temp\\ipykernel_23140\\1403957750.py:5: SettingWithCopyWarning: \n",
      "A value is trying to be set on a copy of a slice from a DataFrame\n",
      "\n",
      "See the caveats in the documentation: https://pandas.pydata.org/pandas-docs/stable/user_guide/indexing.html#returning-a-view-versus-a-copy\n",
      "  listan.drop_duplicates(inplace=True)\n"
     ]
    },
    {
     "data": {
      "text/html": [
       "<style type=\"text/css\">\n",
       "</style>\n",
       "<table id=\"T_f1b85\">\n",
       "  <thead>\n",
       "    <tr>\n",
       "      <th id=\"T_f1b85_level0_col0\" class=\"col_heading level0 col0\" >Year</th>\n",
       "      <th id=\"T_f1b85_level0_col1\" class=\"col_heading level0 col1\" >City</th>\n",
       "    </tr>\n",
       "  </thead>\n",
       "  <tbody>\n",
       "    <tr>\n",
       "      <td id=\"T_f1b85_row0_col0\" class=\"data row0 col0\" >1896</td>\n",
       "      <td id=\"T_f1b85_row0_col1\" class=\"data row0 col1\" >Athina</td>\n",
       "    </tr>\n",
       "    <tr>\n",
       "      <td id=\"T_f1b85_row1_col0\" class=\"data row1 col0\" >1900</td>\n",
       "      <td id=\"T_f1b85_row1_col1\" class=\"data row1 col1\" >Paris</td>\n",
       "    </tr>\n",
       "    <tr>\n",
       "      <td id=\"T_f1b85_row2_col0\" class=\"data row2 col0\" >1904</td>\n",
       "      <td id=\"T_f1b85_row2_col1\" class=\"data row2 col1\" >St. Louis</td>\n",
       "    </tr>\n",
       "    <tr>\n",
       "      <td id=\"T_f1b85_row3_col0\" class=\"data row3 col0\" >1906</td>\n",
       "      <td id=\"T_f1b85_row3_col1\" class=\"data row3 col1\" >Athina</td>\n",
       "    </tr>\n",
       "    <tr>\n",
       "      <td id=\"T_f1b85_row4_col0\" class=\"data row4 col0\" >1908</td>\n",
       "      <td id=\"T_f1b85_row4_col1\" class=\"data row4 col1\" >London</td>\n",
       "    </tr>\n",
       "    <tr>\n",
       "      <td id=\"T_f1b85_row5_col0\" class=\"data row5 col0\" >1912</td>\n",
       "      <td id=\"T_f1b85_row5_col1\" class=\"data row5 col1\" >Stockholm</td>\n",
       "    </tr>\n",
       "    <tr>\n",
       "      <td id=\"T_f1b85_row6_col0\" class=\"data row6 col0\" >1920</td>\n",
       "      <td id=\"T_f1b85_row6_col1\" class=\"data row6 col1\" >Antwerpen</td>\n",
       "    </tr>\n",
       "    <tr>\n",
       "      <td id=\"T_f1b85_row7_col0\" class=\"data row7 col0\" >1924</td>\n",
       "      <td id=\"T_f1b85_row7_col1\" class=\"data row7 col1\" >Chamonix</td>\n",
       "    </tr>\n",
       "    <tr>\n",
       "      <td id=\"T_f1b85_row8_col0\" class=\"data row8 col0\" >1924</td>\n",
       "      <td id=\"T_f1b85_row8_col1\" class=\"data row8 col1\" >Paris</td>\n",
       "    </tr>\n",
       "    <tr>\n",
       "      <td id=\"T_f1b85_row9_col0\" class=\"data row9 col0\" >1928</td>\n",
       "      <td id=\"T_f1b85_row9_col1\" class=\"data row9 col1\" >Amsterdam</td>\n",
       "    </tr>\n",
       "    <tr>\n",
       "      <td id=\"T_f1b85_row10_col0\" class=\"data row10 col0\" >1928</td>\n",
       "      <td id=\"T_f1b85_row10_col1\" class=\"data row10 col1\" >Sankt Moritz</td>\n",
       "    </tr>\n",
       "    <tr>\n",
       "      <td id=\"T_f1b85_row11_col0\" class=\"data row11 col0\" >1932</td>\n",
       "      <td id=\"T_f1b85_row11_col1\" class=\"data row11 col1\" >Lake Placid</td>\n",
       "    </tr>\n",
       "    <tr>\n",
       "      <td id=\"T_f1b85_row12_col0\" class=\"data row12 col0\" >1932</td>\n",
       "      <td id=\"T_f1b85_row12_col1\" class=\"data row12 col1\" >Los Angeles</td>\n",
       "    </tr>\n",
       "    <tr>\n",
       "      <td id=\"T_f1b85_row13_col0\" class=\"data row13 col0\" >1936</td>\n",
       "      <td id=\"T_f1b85_row13_col1\" class=\"data row13 col1\" >Garmisch-Partenkirchen</td>\n",
       "    </tr>\n",
       "    <tr>\n",
       "      <td id=\"T_f1b85_row14_col0\" class=\"data row14 col0\" >1936</td>\n",
       "      <td id=\"T_f1b85_row14_col1\" class=\"data row14 col1\" >Berlin</td>\n",
       "    </tr>\n",
       "    <tr>\n",
       "      <td id=\"T_f1b85_row15_col0\" class=\"data row15 col0\" >1948</td>\n",
       "      <td id=\"T_f1b85_row15_col1\" class=\"data row15 col1\" >London</td>\n",
       "    </tr>\n",
       "    <tr>\n",
       "      <td id=\"T_f1b85_row16_col0\" class=\"data row16 col0\" >1948</td>\n",
       "      <td id=\"T_f1b85_row16_col1\" class=\"data row16 col1\" >Sankt Moritz</td>\n",
       "    </tr>\n",
       "    <tr>\n",
       "      <td id=\"T_f1b85_row17_col0\" class=\"data row17 col0\" >1952</td>\n",
       "      <td id=\"T_f1b85_row17_col1\" class=\"data row17 col1\" >Oslo</td>\n",
       "    </tr>\n",
       "    <tr>\n",
       "      <td id=\"T_f1b85_row18_col0\" class=\"data row18 col0\" >1952</td>\n",
       "      <td id=\"T_f1b85_row18_col1\" class=\"data row18 col1\" >Helsinki</td>\n",
       "    </tr>\n",
       "    <tr>\n",
       "      <td id=\"T_f1b85_row19_col0\" class=\"data row19 col0\" >1956</td>\n",
       "      <td id=\"T_f1b85_row19_col1\" class=\"data row19 col1\" >Cortina d'Ampezzo</td>\n",
       "    </tr>\n",
       "    <tr>\n",
       "      <td id=\"T_f1b85_row20_col0\" class=\"data row20 col0\" >1956</td>\n",
       "      <td id=\"T_f1b85_row20_col1\" class=\"data row20 col1\" >Stockholm</td>\n",
       "    </tr>\n",
       "    <tr>\n",
       "      <td id=\"T_f1b85_row21_col0\" class=\"data row21 col0\" >1956</td>\n",
       "      <td id=\"T_f1b85_row21_col1\" class=\"data row21 col1\" >Melbourne</td>\n",
       "    </tr>\n",
       "    <tr>\n",
       "      <td id=\"T_f1b85_row22_col0\" class=\"data row22 col0\" >1960</td>\n",
       "      <td id=\"T_f1b85_row22_col1\" class=\"data row22 col1\" >Squaw Valley</td>\n",
       "    </tr>\n",
       "    <tr>\n",
       "      <td id=\"T_f1b85_row23_col0\" class=\"data row23 col0\" >1960</td>\n",
       "      <td id=\"T_f1b85_row23_col1\" class=\"data row23 col1\" >Roma</td>\n",
       "    </tr>\n",
       "    <tr>\n",
       "      <td id=\"T_f1b85_row24_col0\" class=\"data row24 col0\" >1964</td>\n",
       "      <td id=\"T_f1b85_row24_col1\" class=\"data row24 col1\" >Innsbruck</td>\n",
       "    </tr>\n",
       "    <tr>\n",
       "      <td id=\"T_f1b85_row25_col0\" class=\"data row25 col0\" >1964</td>\n",
       "      <td id=\"T_f1b85_row25_col1\" class=\"data row25 col1\" >Tokyo</td>\n",
       "    </tr>\n",
       "    <tr>\n",
       "      <td id=\"T_f1b85_row26_col0\" class=\"data row26 col0\" >1968</td>\n",
       "      <td id=\"T_f1b85_row26_col1\" class=\"data row26 col1\" >Grenoble</td>\n",
       "    </tr>\n",
       "    <tr>\n",
       "      <td id=\"T_f1b85_row27_col0\" class=\"data row27 col0\" >1968</td>\n",
       "      <td id=\"T_f1b85_row27_col1\" class=\"data row27 col1\" >Mexico City</td>\n",
       "    </tr>\n",
       "    <tr>\n",
       "      <td id=\"T_f1b85_row28_col0\" class=\"data row28 col0\" >1972</td>\n",
       "      <td id=\"T_f1b85_row28_col1\" class=\"data row28 col1\" >Munich</td>\n",
       "    </tr>\n",
       "    <tr>\n",
       "      <td id=\"T_f1b85_row29_col0\" class=\"data row29 col0\" >1972</td>\n",
       "      <td id=\"T_f1b85_row29_col1\" class=\"data row29 col1\" >Sapporo</td>\n",
       "    </tr>\n",
       "    <tr>\n",
       "      <td id=\"T_f1b85_row30_col0\" class=\"data row30 col0\" >1976</td>\n",
       "      <td id=\"T_f1b85_row30_col1\" class=\"data row30 col1\" >Montreal</td>\n",
       "    </tr>\n",
       "    <tr>\n",
       "      <td id=\"T_f1b85_row31_col0\" class=\"data row31 col0\" >1976</td>\n",
       "      <td id=\"T_f1b85_row31_col1\" class=\"data row31 col1\" >Innsbruck</td>\n",
       "    </tr>\n",
       "    <tr>\n",
       "      <td id=\"T_f1b85_row32_col0\" class=\"data row32 col0\" >1980</td>\n",
       "      <td id=\"T_f1b85_row32_col1\" class=\"data row32 col1\" >Moskva</td>\n",
       "    </tr>\n",
       "    <tr>\n",
       "      <td id=\"T_f1b85_row33_col0\" class=\"data row33 col0\" >1980</td>\n",
       "      <td id=\"T_f1b85_row33_col1\" class=\"data row33 col1\" >Lake Placid</td>\n",
       "    </tr>\n",
       "    <tr>\n",
       "      <td id=\"T_f1b85_row34_col0\" class=\"data row34 col0\" >1984</td>\n",
       "      <td id=\"T_f1b85_row34_col1\" class=\"data row34 col1\" >Los Angeles</td>\n",
       "    </tr>\n",
       "    <tr>\n",
       "      <td id=\"T_f1b85_row35_col0\" class=\"data row35 col0\" >1984</td>\n",
       "      <td id=\"T_f1b85_row35_col1\" class=\"data row35 col1\" >Sarajevo</td>\n",
       "    </tr>\n",
       "    <tr>\n",
       "      <td id=\"T_f1b85_row36_col0\" class=\"data row36 col0\" >1988</td>\n",
       "      <td id=\"T_f1b85_row36_col1\" class=\"data row36 col1\" >Calgary</td>\n",
       "    </tr>\n",
       "    <tr>\n",
       "      <td id=\"T_f1b85_row37_col0\" class=\"data row37 col0\" >1988</td>\n",
       "      <td id=\"T_f1b85_row37_col1\" class=\"data row37 col1\" >Seoul</td>\n",
       "    </tr>\n",
       "    <tr>\n",
       "      <td id=\"T_f1b85_row38_col0\" class=\"data row38 col0\" >1992</td>\n",
       "      <td id=\"T_f1b85_row38_col1\" class=\"data row38 col1\" >Albertville</td>\n",
       "    </tr>\n",
       "    <tr>\n",
       "      <td id=\"T_f1b85_row39_col0\" class=\"data row39 col0\" >1992</td>\n",
       "      <td id=\"T_f1b85_row39_col1\" class=\"data row39 col1\" >Barcelona</td>\n",
       "    </tr>\n",
       "    <tr>\n",
       "      <td id=\"T_f1b85_row40_col0\" class=\"data row40 col0\" >1994</td>\n",
       "      <td id=\"T_f1b85_row40_col1\" class=\"data row40 col1\" >Lillehammer</td>\n",
       "    </tr>\n",
       "    <tr>\n",
       "      <td id=\"T_f1b85_row41_col0\" class=\"data row41 col0\" >1996</td>\n",
       "      <td id=\"T_f1b85_row41_col1\" class=\"data row41 col1\" >Atlanta</td>\n",
       "    </tr>\n",
       "    <tr>\n",
       "      <td id=\"T_f1b85_row42_col0\" class=\"data row42 col0\" >1998</td>\n",
       "      <td id=\"T_f1b85_row42_col1\" class=\"data row42 col1\" >Nagano</td>\n",
       "    </tr>\n",
       "    <tr>\n",
       "      <td id=\"T_f1b85_row43_col0\" class=\"data row43 col0\" >2000</td>\n",
       "      <td id=\"T_f1b85_row43_col1\" class=\"data row43 col1\" >Sydney</td>\n",
       "    </tr>\n",
       "    <tr>\n",
       "      <td id=\"T_f1b85_row44_col0\" class=\"data row44 col0\" >2002</td>\n",
       "      <td id=\"T_f1b85_row44_col1\" class=\"data row44 col1\" >Salt Lake City</td>\n",
       "    </tr>\n",
       "    <tr>\n",
       "      <td id=\"T_f1b85_row45_col0\" class=\"data row45 col0\" >2004</td>\n",
       "      <td id=\"T_f1b85_row45_col1\" class=\"data row45 col1\" >Athina</td>\n",
       "    </tr>\n",
       "    <tr>\n",
       "      <td id=\"T_f1b85_row46_col0\" class=\"data row46 col0\" >2006</td>\n",
       "      <td id=\"T_f1b85_row46_col1\" class=\"data row46 col1\" >Torino</td>\n",
       "    </tr>\n",
       "    <tr>\n",
       "      <td id=\"T_f1b85_row47_col0\" class=\"data row47 col0\" >2008</td>\n",
       "      <td id=\"T_f1b85_row47_col1\" class=\"data row47 col1\" >Beijing</td>\n",
       "    </tr>\n",
       "    <tr>\n",
       "      <td id=\"T_f1b85_row48_col0\" class=\"data row48 col0\" >2010</td>\n",
       "      <td id=\"T_f1b85_row48_col1\" class=\"data row48 col1\" >Vancouver</td>\n",
       "    </tr>\n",
       "    <tr>\n",
       "      <td id=\"T_f1b85_row49_col0\" class=\"data row49 col0\" >2012</td>\n",
       "      <td id=\"T_f1b85_row49_col1\" class=\"data row49 col1\" >London</td>\n",
       "    </tr>\n",
       "    <tr>\n",
       "      <td id=\"T_f1b85_row50_col0\" class=\"data row50 col0\" >2014</td>\n",
       "      <td id=\"T_f1b85_row50_col1\" class=\"data row50 col1\" >Sochi</td>\n",
       "    </tr>\n",
       "    <tr>\n",
       "      <td id=\"T_f1b85_row51_col0\" class=\"data row51 col0\" >2016</td>\n",
       "      <td id=\"T_f1b85_row51_col1\" class=\"data row51 col1\" >Rio de Janeiro</td>\n",
       "    </tr>\n",
       "  </tbody>\n",
       "</table>\n"
      ],
      "text/plain": [
       "<pandas.io.formats.style.Styler at 0x1b5274fdcd0>"
      ]
     },
     "execution_count": 6,
     "metadata": {},
     "output_type": "execute_result"
    }
   ],
   "source": [
    "#Vi valde frågan \"vilket år samt i vilken stad OS spelades i?\". \n",
    "\n",
    "listan = df2[['Year','City']]\n",
    "\n",
    "listan.drop_duplicates(inplace=True)\n",
    "x = listan.sort_values('Year')\n",
    "\n",
    "x.style.hide(axis=\"index\")\n",
    "\n",
    "\n"
   ]
  },
  {
   "cell_type": "code",
   "execution_count": 7,
   "metadata": {},
   "outputs": [
    {
     "data": {
      "text/plain": [
       "<BarContainer object of 2 artists>"
      ]
     },
     "execution_count": 7,
     "metadata": {},
     "output_type": "execute_result"
    },
    {
     "data": {
      "image/png": "[encoded data removed]",
      "text/plain": [
       "<Figure size 640x480 with 1 Axes>"
      ]
     },
     "metadata": {},
     "output_type": "display_data"
    }
   ],
   "source": [
    "import matplotlib.pyplot as plt\n",
    "\n",
    "# Könsfördelning \n",
    "\n",
    "sex = df2.groupby(['Sex']).size()\n",
    "\n",
    "sex_total = sex.to_dict()\n",
    "\n",
    "plt.bar(sex_total.keys(), sex_total.values())"
   ]
  },
  {
   "cell_type": "code",
   "execution_count": 8,
   "metadata": {},
   "outputs": [
    {
     "data": {
      "text/plain": [
       "<BarContainer object of 10 artists>"
      ]
     },
     "execution_count": 8,
     "metadata": {},
     "output_type": "execute_result"
    },
    {
     "data": {
      "image/png": "[encoded data removed]",
      "text/plain": [
       "<Figure size 640x480 with 1 Axes>"
      ]
     },
     "metadata": {},
     "output_type": "display_data"
    }
   ],
   "source": [
    "# h. diagram över topp 10 länder som tagit flest medaljer\n",
    "\n",
    "medalj = df2.pivot_table(index= 'NOC', columns='Medal', aggfunc= 'size')\n",
    "\n",
    "medalj2 = medalj.sum(axis=1)\n",
    "medalj = medalj2.sort_values(ascending=False)\n",
    "\n",
    "medalj = medalj.astype(int)\n",
    "medalj.head(10)\n",
    "\n",
    "\n",
    "medalj10= medalj[:10]\n",
    "\n",
    "medalj_top_10 = medalj10.to_dict()\n",
    "plt.bar(medalj_top_10.keys(), medalj_top_10.values())\n",
    "\n",
    "\n",
    "\n"
   ]
  },
  {
   "cell_type": "code",
   "execution_count": 9,
   "metadata": {},
   "outputs": [
    {
     "data": {
      "image/png": "[encoded data removed]",
      "text/plain": [
       "<Figure size 1200x800 with 1 Axes>"
      ]
     },
     "metadata": {},
     "output_type": "display_data"
    }
   ],
   "source": [
    "import matplotlib.pyplot as plt\n",
    "\n",
    "gender_distributions = []\n",
    "\n",
    "\n",
    "for country in medalj_top_10.keys():\n",
    "   \n",
    "    country_data = df2[df2['NOC'] == country]\n",
    "    \n",
    "    gender_distribution = country_data['Sex'].value_counts()\n",
    "    gender_distribution = gender_distribution.reindex(['M', 'F'],)    \n",
    "    gender_distributions.append(gender_distribution)\n",
    "\n",
    "\n",
    "gender_df = pd.DataFrame(gender_distributions, index=medalj_top_10.keys())\n",
    "gender_df.plot(kind='bar', stacked=False, figsize=(12, 8))\n",
    "\n",
    "\n",
    "\n",
    "\n",
    "plt.title('Könsfördelning för de 10 länder som tagit flest medaljer')\n",
    "plt.xlabel('Land')\n",
    "plt.ylabel('Antal atleter')\n",
    "plt.xticks(rotation=45) \n",
    "plt.legend(title='Sex', loc='upper left', labels=['Män', 'Kvinnor'])\n",
    "plt.tight_layout() \n",
    "plt.show()\n"
   ]
  },
  {
   "cell_type": "code",
   "execution_count": 98,
   "metadata": {},
   "outputs": [
    {
     "data": {
      "text/plain": [
       "269       aba7d8d0992f2b3b6e46b1831df764994ff8ffbf6c898f...\n",
       "270       aba7d8d0992f2b3b6e46b1831df764994ff8ffbf6c898f...\n",
       "279       70df8f4a81f7f3a99f3082f342cbc5abe1a94639746d6e...\n",
       "280       f88877baecbe8c235efe8ad5692bab36d2dc9e36091da0...\n",
       "281       6dbe76474f9fa17f0569120a314c2fb177ec51f05996eb...\n",
       "                                ...                        \n",
       "270889    4addc5795374accf65ead2ca70d179d84d28730c5ac81b...\n",
       "270890    4addc5795374accf65ead2ca70d179d84d28730c5ac81b...\n",
       "270901    2ca90c79227f3a5bf8f1791cc94359e3ac466f5f926dd5...\n",
       "271030    b2383fe9b2af798bfb60359ace2b2416cc690e725da812...\n",
       "271031    b2383fe9b2af798bfb60359ace2b2416cc690e725da812...\n",
       "Name: Name, Length: 9733, dtype: object"
      ]
     },
     "execution_count": 98,
     "metadata": {},
     "output_type": "execute_result"
    }
   ],
   "source": [
    "import hashlib as hl\n",
    "canada_os = df2[df2[\"NOC\"] == \"CAN\"]\n",
    "canada_athletes = canada_os[\"Name\"].apply(lambda x : hl.sha256(str(x).encode()).hexdigest())\n",
    "canada_athletes"
   ]
  },
  {
   "cell_type": "code",
   "execution_count": 101,
   "metadata": {},
   "outputs": [
    {
     "ename": "TypeError",
     "evalue": "'tuple' object is not callable",
     "output_type": "error",
     "traceback": [
      "\u001b[1;31m---------------------------------------------------------------------------\u001b[0m",
      "\u001b[1;31mTypeError\u001b[0m                                 Traceback (most recent call last)",
      "Cell \u001b[1;32mIn[101], line 9\u001b[0m\n\u001b[0;32m      7\u001b[0m tes_dict \u001b[38;5;241m=\u001b[39m tes\u001b[38;5;241m.\u001b[39mto_dict()\n\u001b[0;32m      8\u001b[0m tes_dict\n\u001b[1;32m----> 9\u001b[0m plt\u001b[38;5;241m.\u001b[39mbar(tes_dict\u001b[38;5;241m.\u001b[39mkeys(), tes_dict\u001b[38;5;241m.\u001b[39mvalues())\n",
      "File \u001b[1;32mc:\\Users\\musta\\anaconda3\\Lib\\site-packages\\matplotlib\\pyplot.py:2742\u001b[0m, in \u001b[0;36mbar\u001b[1;34m(x, height, width, bottom, align, data, **kwargs)\u001b[0m\n\u001b[0;32m   2731\u001b[0m \u001b[38;5;129m@_copy_docstring_and_deprecators\u001b[39m(Axes\u001b[38;5;241m.\u001b[39mbar)\n\u001b[0;32m   2732\u001b[0m \u001b[38;5;28;01mdef\u001b[39;00m \u001b[38;5;21mbar\u001b[39m(\n\u001b[0;32m   2733\u001b[0m     x: \u001b[38;5;28mfloat\u001b[39m \u001b[38;5;241m|\u001b[39m ArrayLike,\n\u001b[1;32m   (...)\u001b[0m\n\u001b[0;32m   2740\u001b[0m     \u001b[38;5;241m*\u001b[39m\u001b[38;5;241m*\u001b[39mkwargs,\n\u001b[0;32m   2741\u001b[0m ) \u001b[38;5;241m-\u001b[39m\u001b[38;5;241m>\u001b[39m BarContainer:\n\u001b[1;32m-> 2742\u001b[0m     \u001b[38;5;28;01mreturn\u001b[39;00m gca()\u001b[38;5;241m.\u001b[39mbar(\n\u001b[0;32m   2743\u001b[0m         x,\n\u001b[0;32m   2744\u001b[0m         height,\n\u001b[0;32m   2745\u001b[0m         width\u001b[38;5;241m=\u001b[39mwidth,\n\u001b[0;32m   2746\u001b[0m         bottom\u001b[38;5;241m=\u001b[39mbottom,\n\u001b[0;32m   2747\u001b[0m         align\u001b[38;5;241m=\u001b[39malign,\n\u001b[0;32m   2748\u001b[0m         \u001b[38;5;241m*\u001b[39m\u001b[38;5;241m*\u001b[39m({\u001b[38;5;124m\"\u001b[39m\u001b[38;5;124mdata\u001b[39m\u001b[38;5;124m\"\u001b[39m: data} \u001b[38;5;28;01mif\u001b[39;00m data \u001b[38;5;129;01mis\u001b[39;00m \u001b[38;5;129;01mnot\u001b[39;00m \u001b[38;5;28;01mNone\u001b[39;00m \u001b[38;5;28;01melse\u001b[39;00m {}),\n\u001b[0;32m   2749\u001b[0m         \u001b[38;5;241m*\u001b[39m\u001b[38;5;241m*\u001b[39mkwargs,\n\u001b[0;32m   2750\u001b[0m     )\n",
      "File \u001b[1;32mc:\\Users\\musta\\anaconda3\\Lib\\site-packages\\matplotlib\\pyplot.py:2528\u001b[0m, in \u001b[0;36mgca\u001b[1;34m()\u001b[0m\n\u001b[0;32m   2526\u001b[0m \u001b[38;5;129m@_copy_docstring_and_deprecators\u001b[39m(Figure\u001b[38;5;241m.\u001b[39mgca)\n\u001b[0;32m   2527\u001b[0m \u001b[38;5;28;01mdef\u001b[39;00m \u001b[38;5;21mgca\u001b[39m() \u001b[38;5;241m-\u001b[39m\u001b[38;5;241m>\u001b[39m Axes:\n\u001b[1;32m-> 2528\u001b[0m     \u001b[38;5;28;01mreturn\u001b[39;00m gcf()\u001b[38;5;241m.\u001b[39mgca()\n",
      "File \u001b[1;32mc:\\Users\\musta\\anaconda3\\Lib\\site-packages\\matplotlib\\pyplot.py:1000\u001b[0m, in \u001b[0;36mgcf\u001b[1;34m()\u001b[0m\n\u001b[0;32m    998\u001b[0m     \u001b[38;5;28;01mreturn\u001b[39;00m manager\u001b[38;5;241m.\u001b[39mcanvas\u001b[38;5;241m.\u001b[39mfigure\n\u001b[0;32m    999\u001b[0m \u001b[38;5;28;01melse\u001b[39;00m:\n\u001b[1;32m-> 1000\u001b[0m     \u001b[38;5;28;01mreturn\u001b[39;00m figure()\n",
      "\u001b[1;31mTypeError\u001b[0m: 'tuple' object is not callable"
     ]
    }
   ],
   "source": [
    "import matplotlib.pyplot as plt\n",
    "\n",
    "rt = canada_os.pivot_table(index = \"Sport\", columns= \"Medal\", aggfunc= \"size\")\n",
    "number_medal = rt.sum(axis= 1)\n",
    "number_medal.sort_values(ascending= False)\n",
    "tes = number_medal.astype(int)\n",
    "tes_dict = tes.to_dict()\n",
    "tes_dict\n",
    "plt.bar(tes_dict.keys(), tes_dict.values())\n"
   ]
  }
 ],
 "metadata": {
  "kernelspec": {
   "display_name": "base",
   "language": "python",
   "name": "python3"
  },
  "language_info": {
   "codemirror_mode": {
    "name": "ipython",
    "version": 3
   },
   "file_extension": ".py",
   "mimetype": "text/x-python",
   "name": "python",
   "nbconvert_exporter": "python",
   "pygments_lexer": "ipython3",
   "version": "3.11.7"
  }
 },
 "nbformat": 4,
 "nbformat_minor": 2
}
